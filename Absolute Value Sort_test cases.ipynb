{
 "cells": [
  {
   "cell_type": "code",
   "execution_count": 176,
   "metadata": {},
   "outputs": [],
   "source": [
    "I did it! I coded this myself - pramp question. Finally! I feel proud of myself!\n",
    "def absSort(arr):\n",
    "    result=[]\n",
    "    d ={}\n",
    "  \n",
    "    for i in range(len(arr)):\n",
    "        if abs(arr[i]) in d:\n",
    "           \n",
    "            d[abs(arr[i])].append(arr[i])\n",
    "            \n",
    "        else:\n",
    "            d[abs(arr[i])]=d.get(abs(arr[i]), [arr[i]])\n",
    "  \n",
    "    for k, v in sorted(d.items()):\n",
    "        result.extend(sorted(v))\n",
    "    \n",
    "    return result\n",
    "    "
   ]
  },
  {
   "cell_type": "code",
   "execution_count": 177,
   "metadata": {},
   "outputs": [
    {
     "data": {
      "text/plain": [
       "[0, -2, -2, 2, -7]"
      ]
     },
     "execution_count": 177,
     "metadata": {},
     "output_type": "execute_result"
    }
   ],
   "source": [
    "absSort([2, -7, -2, -2, 0])"
   ]
  },
  {
   "cell_type": "code",
   "execution_count": 123,
   "metadata": {},
   "outputs": [
    {
     "name": "stdout",
     "output_type": "stream",
     "text": [
      "2\n",
      "7\n",
      "2\n",
      "2\n",
      "0\n"
     ]
    }
   ],
   "source": [
    "df={}\n",
    "for i in list(map(abs, [2, -7, -2, -2, 0])):\n",
    "    print(i)\n",
    "    \n"
   ]
  },
  {
   "cell_type": "code",
   "execution_count": null,
   "metadata": {},
   "outputs": [],
   "source": [
    "#Test Cases:\n",
    "\n",
    "Test Case #1\n",
    "Input:[2,-7,-2,-2,0]\n",
    "\n",
    "Expected:[0,-2,-2,2,-7]\n",
    "Actual:[0, -2, -2, 2, -7]\n",
    "\n",
    "Test Case #2\n",
    "Input: [-2,1],Expected: [1,-2],Actual: [1, -2]\n",
    "\n",
    "Test Case #3\n",
    "Input: [0,1,2],Expected: [0,1,2],Actual: [0, 1, 2]\n",
    "\n",
    "Test Case #4\n",
    "Input: [2,-1,-1,-1],Expected: [-1,-1,-1,2],Actual: [-1, -1, -1, 2]\n",
    "\n",
    "Test Case #5\n",
    "Input: [-2,3,5,-1,4],Expected: [-1,-2,3,4,5],Actual: [-1, -2, 3, 4, 5]\n",
    "\n",
    "Test Case #6\n",
    "Input: [4,-1,6,-4,2,-1],Expected: [-1,-1,2,-4,4,6],Actual: [-1, -1, 2, -4, 4, 6]\n",
    "\n",
    "Test Case #7\n",
    "Input: [6,4,-5,0,-1,7,0],Expected: [0,0,-1,4,-5,6,7],Actual: [0, 0, -1, 4, -5, 6, 7]\n",
    "\n",
    "Test Case #8\n",
    "Input: [-7,-2,-2,6,5,-6,-2,-6],Expected: [-2,-2,-2,5,-6,-6,6,-7],Actual: [-2, -2, -2, 5, -6, -6, 6, -7]\n",
    "\n",
    "Test Case #9\n",
    "Input: [-4,9,-1,1,-1,2,-8,-6,3],Expected: [-1,-1,1,2,3,-4,-6,-8,9],Actual: [-1, -1, 1, 2, 3, -4, -6, -8, 9]\n",
    "\n",
    "RUN CODE\n",
    "RUN TESTS"
   ]
  }
 ],
 "metadata": {
  "kernelspec": {
   "display_name": "Python 3",
   "language": "python",
   "name": "python3"
  },
  "language_info": {
   "codemirror_mode": {
    "name": "ipython",
    "version": 3
   },
   "file_extension": ".py",
   "mimetype": "text/x-python",
   "name": "python",
   "nbconvert_exporter": "python",
   "pygments_lexer": "ipython3",
   "version": "3.7.4"
  }
 },
 "nbformat": 4,
 "nbformat_minor": 2
}
