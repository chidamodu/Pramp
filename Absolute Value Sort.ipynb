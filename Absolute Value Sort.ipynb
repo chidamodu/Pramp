{
 "cells": [
  {
   "cell_type": "code",
   "execution_count": 176,
   "metadata": {},
   "outputs": [],
   "source": [
    "I did it! I coded this myself - pramp question. Finally! I feel proud of myself!\n",
    "def absSort(arr):\n",
    "    result=[]\n",
    "    d ={}\n",
    "  \n",
    "    for i in range(len(arr)):\n",
    "        if abs(arr[i]) in d:\n",
    "           \n",
    "            d[abs(arr[i])].append(arr[i])\n",
    "            \n",
    "        else:\n",
    "            d[abs(arr[i])]=d.get(abs(arr[i]), [arr[i]])\n",
    "  \n",
    "    for k, v in sorted(d.items()):\n",
    "        result.extend(sorted(v))\n",
    "    \n",
    "    return result\n",
    "    "
   ]
  },
  {
   "cell_type": "code",
   "execution_count": 177,
   "metadata": {},
   "outputs": [
    {
     "data": {
      "text/plain": [
       "[0, -2, -2, 2, -7]"
      ]
     },
     "execution_count": 177,
     "metadata": {},
     "output_type": "execute_result"
    }
   ],
   "source": [
    "absSort([2, -7, -2, -2, 0])"
   ]
  },
  {
   "cell_type": "code",
   "execution_count": 123,
   "metadata": {},
   "outputs": [
    {
     "name": "stdout",
     "output_type": "stream",
     "text": [
      "2\n",
      "7\n",
      "2\n",
      "2\n",
      "0\n"
     ]
    }
   ],
   "source": [
    "df={}\n",
    "for i in list(map(abs, [2, -7, -2, -2, 0])):\n",
    "    print(i)\n",
    "    \n"
   ]
  }
 ],
 "metadata": {
  "kernelspec": {
   "display_name": "Python 3",
   "language": "python",
   "name": "python3"
  },
  "language_info": {
   "codemirror_mode": {
    "name": "ipython",
    "version": 3
   },
   "file_extension": ".py",
   "mimetype": "text/x-python",
   "name": "python",
   "nbconvert_exporter": "python",
   "pygments_lexer": "ipython3",
   "version": "3.7.4"
  }
 },
 "nbformat": 4,
 "nbformat_minor": 2
}
